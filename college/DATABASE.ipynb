{
 "cells": [
  {
   "cell_type": "code",
   "execution_count": 4,
   "metadata": {},
   "outputs": [],
   "source": [
    "import random\n",
    "import mysql.connector\n",
    "import pandas as pd\n",
    "mydb = mysql.connector.connect(\n",
    "  host=\"localhost\",\n",
    "  user=\"root\",\n",
    "  password=\"aayush\",\n",
    "  database=\"second_year\")"
   ]
  },
  {
   "cell_type": "code",
   "execution_count": 6,
   "metadata": {},
   "outputs": [],
   "source": [
    "mycursor.execute(\"DELETE FROM maths;\")"
   ]
  },
  {
   "cell_type": "code",
   "execution_count": 7,
   "metadata": {},
   "outputs": [
    {
     "name": "stdout",
     "output_type": "stream",
     "text": [
      "         Rollno               Name Attendence\n",
      "0    18ETCCS001     AAYUSH DADHICH          A\n",
      "1    18ETCCS002  ABHISHEK PANCHOLI          A\n",
      "2    18ETCCS003         ADITI JAIN          P\n",
      "3    18ETCCS004     ADNAN PIPAWALA          P\n",
      "4    18ETCCS005     AKHILESH JOSHI          A\n",
      "..          ...                ...        ...\n",
      "96   19ETCCS202       GARIMA NAGDA          A\n",
      "97   19ETCCS203     JINAL BHARDWAJ          P\n",
      "98   19ETCCS204        NARESH MALI          A\n",
      "99   19ETCCS205         POOJA DAVE          P\n",
      "100  19ETCCS206      SIDDHESH JAIN          A\n",
      "\n",
      "[101 rows x 3 columns]\n"
     ]
    }
   ],
   "source": [
    "mycursor = mydb.cursor()\n",
    "df = pd.read_excel(\"F:\\B.TECH III SEM TR MAIN 2020.xlsx\")\n",
    "df = df[df[\"SHNAME1\"]==\"3CS2-01\"][[\"ROLLNO\",'NAME']].reset_index()\n",
    "df['DATE'] = pd.Series([random.choice(['P','A']) for i in range(len(df))])\n",
    "for i in range(len(df)):\n",
    "    mycursor.execute(f\"insert into maths values(\\\"{df.iloc[i]['ROLLNO']}\\\",\\\"{df.iloc[i]['NAME']}\\\",\\\"{df.iloc[i]['DATE']}\\\")\")\n",
    "mydb.commit()\n",
    "df = pd.read_sql_query(\"select * from maths;\", mydb)\n",
    "print(df)"
   ]
  },
  {
   "cell_type": "code",
   "execution_count": null,
   "metadata": {},
   "outputs": [],
   "source": []
  },
  {
   "cell_type": "code",
   "execution_count": null,
   "metadata": {},
   "outputs": [],
   "source": []
  }
 ],
 "metadata": {
  "kernelspec": {
   "display_name": "Python 3",
   "language": "python",
   "name": "python3"
  },
  "language_info": {
   "codemirror_mode": {
    "name": "ipython",
    "version": 3
   },
   "file_extension": ".py",
   "mimetype": "text/x-python",
   "name": "python",
   "nbconvert_exporter": "python",
   "pygments_lexer": "ipython3",
   "version": "3.7.6"
  }
 },
 "nbformat": 4,
 "nbformat_minor": 4
}
